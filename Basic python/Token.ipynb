{
 "cells": [
  {
   "cell_type": "markdown",
   "id": "6dad22d1-591b-4f04-85df-0388c95d70e2",
   "metadata": {},
   "source": [
    "# TOKEN"
   ]
  },
  {
   "cell_type": "raw",
   "id": "a552b3b4-9068-4b25-97b0-23f43a52de89",
   "metadata": {},
   "source": [
    "1.keyword"
   ]
  },
  {
   "cell_type": "code",
   "execution_count": 4,
   "id": "36e8652b-22bd-4168-b1ca-88e2d464eb72",
   "metadata": {},
   "outputs": [
    {
     "name": "stdout",
     "output_type": "stream",
     "text": [
      "['False', 'None', 'True', 'and', 'as', 'assert', 'async', 'await', 'break', 'class', 'continue', 'def', 'del', 'elif', 'else', 'except', 'finally', 'for', 'from', 'global', 'if', 'import', 'in', 'is', 'lambda', 'nonlocal', 'not', 'or', 'pass', 'raise', 'return', 'try', 'while', 'with', 'yield']\n",
      "35\n"
     ]
    }
   ],
   "source": [
    "import keyword \n",
    "\n",
    "all_keywords = keyword.kwlist\n",
    "print(all_keywords)\n",
    "print(len(all_keywords))"
   ]
  },
  {
   "cell_type": "code",
   "execution_count": null,
   "id": "53d4220a-96b1-4e05-ab30-18d3763b83d2",
   "metadata": {},
   "outputs": [],
   "source": [
    "import keyword \n",
    "\n",
    "all_keywords = k.kwlist\n",
    "print(all_keywords)\n",
    "print(len(all_keywords))"
   ]
  }
 ],
 "metadata": {
  "kernelspec": {
   "display_name": "Python 3 (ipykernel)",
   "language": "python",
   "name": "python3"
  },
  "language_info": {
   "codemirror_mode": {
    "name": "ipython",
    "version": 3
   },
   "file_extension": ".py",
   "mimetype": "text/x-python",
   "name": "python",
   "nbconvert_exporter": "python",
   "pygments_lexer": "ipython3",
   "version": "3.12.7"
  }
 },
 "nbformat": 4,
 "nbformat_minor": 5
}
