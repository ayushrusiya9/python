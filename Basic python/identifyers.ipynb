{
 "cells": [
  {
   "cell_type": "markdown",
   "id": "11ab8b40-ead3-4a3a-b92b-dee61c5adeed",
   "metadata": {},
   "source": [
    "# Identifier"
   ]
  },
  {
   "cell_type": "raw",
   "id": "0348f3d2",
   "metadata": {},
   "source": []
  },
  {
   "cell_type": "raw",
   "id": "53b3925c-dbd5-4629-b163-aec1d4a60e11",
   "metadata": {},
   "source": [
    "1. Do not start with digit (0-9)"
   ]
  },
  {
   "cell_type": "code",
   "execution_count": 1,
   "id": "ce2125b0-ab05-4238-84cb-0fa7861b1dfb",
   "metadata": {},
   "outputs": [
    {
     "ename": "SyntaxError",
     "evalue": "invalid decimal literal (1182467522.py, line 1)",
     "output_type": "error",
     "traceback": [
      "\u001b[1;36m  Cell \u001b[1;32mIn[1], line 1\u001b[1;36m\u001b[0m\n\u001b[1;33m    1x = 10\u001b[0m\n\u001b[1;37m    ^\u001b[0m\n\u001b[1;31mSyntaxError\u001b[0m\u001b[1;31m:\u001b[0m invalid decimal literal\n"
     ]
    }
   ],
   "source": [
    "1x = 10\n",
    "print(1x)"
   ]
  },
  {
   "cell_type": "raw",
   "id": "aab4ec4e-0f74-4f4d-aae4-6571a0f120cc",
   "metadata": {},
   "source": [
    "2.Start with small or capital and one special symbols( _ )"
   ]
  },
  {
   "cell_type": "code",
   "execution_count": 2,
   "id": "1394c2b1-9a3f-457b-8cd1-d7ad5f4a5eaf",
   "metadata": {},
   "outputs": [
    {
     "name": "stdout",
     "output_type": "stream",
     "text": [
      "10\n"
     ]
    }
   ],
   "source": [
    "_x = 10\n",
    "print(_x)"
   ]
  },
  {
   "cell_type": "raw",
   "id": "87478d42-5403-4f7b-a17a-9033ad8afb4a",
   "metadata": {},
   "source": [
    "3. Do not use in b/w charecter"
   ]
  },
  {
   "cell_type": "code",
   "execution_count": 3,
   "id": "6f61d8a6-9d79-4a97-af3c-caec48e8b6e6",
   "metadata": {},
   "outputs": [
    {
     "ename": "SyntaxError",
     "evalue": "invalid syntax (917814172.py, line 1)",
     "output_type": "error",
     "traceback": [
      "\u001b[1;36m  Cell \u001b[1;32mIn[3], line 1\u001b[1;36m\u001b[0m\n\u001b[1;33m    x x = 10\u001b[0m\n\u001b[1;37m      ^\u001b[0m\n\u001b[1;31mSyntaxError\u001b[0m\u001b[1;31m:\u001b[0m invalid syntax\n"
     ]
    }
   ],
   "source": [
    "x x = 10\n",
    "print(x x)"
   ]
  },
  {
   "cell_type": "raw",
   "id": "5e97470d-6a54-4128-a832-fd9a8c112ed9",
   "metadata": {},
   "source": [
    "4. Case sensitive"
   ]
  },
  {
   "cell_type": "code",
   "execution_count": 5,
   "id": "1c8f7f01-2afb-4a52-ab44-8a39f47cb461",
   "metadata": {},
   "outputs": [
    {
     "ename": "NameError",
     "evalue": "name 'X' is not defined",
     "output_type": "error",
     "traceback": [
      "\u001b[1;31m---------------------------------------------------------------------------\u001b[0m",
      "\u001b[1;31mNameError\u001b[0m                                 Traceback (most recent call last)",
      "Cell \u001b[1;32mIn[5], line 2\u001b[0m\n\u001b[0;32m      1\u001b[0m x \u001b[38;5;241m=\u001b[39m \u001b[38;5;241m10\u001b[39m\n\u001b[1;32m----> 2\u001b[0m \u001b[38;5;28mprint\u001b[39m(X)\n",
      "\u001b[1;31mNameError\u001b[0m: name 'X' is not defined"
     ]
    }
   ],
   "source": [
    "x = 10\n",
    "print(X)"
   ]
  },
  {
   "cell_type": "code",
   "execution_count": null,
   "id": "28e0ac53-7b7b-4855-b518-952e38d8a537",
   "metadata": {},
   "outputs": [],
   "source": []
  }
 ],
 "metadata": {
  "kernelspec": {
   "display_name": "Python 3 (ipykernel)",
   "language": "python",
   "name": "python3"
  },
  "language_info": {
   "codemirror_mode": {
    "name": "ipython",
    "version": 3
   },
   "file_extension": ".py",
   "mimetype": "text/x-python",
   "name": "python",
   "nbconvert_exporter": "python",
   "pygments_lexer": "ipython3",
   "version": "3.12.7"
  }
 },
 "nbformat": 4,
 "nbformat_minor": 5
}
