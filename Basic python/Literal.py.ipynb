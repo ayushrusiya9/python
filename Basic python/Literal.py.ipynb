{
 "cells": [
  {
   "cell_type": "markdown",
   "id": "e684b3b8-b616-4217-b147-b6e84f185bb8",
   "metadata": {},
   "source": [
    "# Literals"
   ]
  },
  {
   "cell_type": "raw",
   "id": "3b68f6bb-b7be-4b45-a853-24a909f8461f",
   "metadata": {},
   "source": [
    "types of literals: \n",
    "1. Numeric (integer, float, complex)\n",
    "2. String\n",
    "3. list \n",
    "4. dictionary(dict)\n",
    "5. set \n",
    "6. \n",
    "7.\n",
    "8."
   ]
  },
  {
   "cell_type": "code",
   "execution_count": 3,
   "id": "920c7a59-b1d4-4fc1-8d18-269b658e5dd2",
   "metadata": {},
   "outputs": [
    {
     "name": "stdout",
     "output_type": "stream",
     "text": [
      "<class 'int'>\n",
      "<class 'float'>\n"
     ]
    }
   ],
   "source": [
    "1. Numeric (integer, float, complex)"
   ]
  },
  {
   "cell_type": "code",
   "execution_count": 4,
   "id": "c38594f8-b0a1-43b5-ba80-0458ee2380e0",
   "metadata": {},
   "outputs": [
    {
     "name": "stdout",
     "output_type": "stream",
     "text": [
      "<class 'int'>\n",
      "<class 'float'>\n",
      "<class 'complex'>\n"
     ]
    }
   ],
   "source": [
    "x = 10\n",
    "print(type(x))\n",
    "x = 10.5\n",
    "print(type(x))\n",
    "x = 5 + 6j\n",
    "print(type(x))"
   ]
  },
  {
   "cell_type": "raw",
   "id": "4f6ad62e-0c61-42a1-b0cf-d4f8ed079fe5",
   "metadata": {},
   "source": [
    "2. string\n",
    "\n",
    "I.Collection of characters.\n",
    "II. Represented in.single line:- (' ', \" \"), multiline:-(''' ''')"
   ]
  },
  {
   "cell_type": "code",
   "execution_count": 5,
   "id": "bd5b864c-7c40-40df-8fcd-1d96d2bdd95f",
   "metadata": {},
   "outputs": [
    {
     "name": "stdout",
     "output_type": "stream",
     "text": [
      " python   java  php\n",
      "pyhon\n",
      "       language\n"
     ]
    }
   ],
   "source": [
    "x = ' python '\n",
    "y = \" java \"\n",
    "z = '''php'''\n",
    "print(x,y,z)\n",
    "\n",
    "# x = 'python\n",
    "#     language'\n",
    "# print(x)\n",
    "# y = \"java\n",
    "#       language\"\n",
    "# print(y)\n",
    "z = '''pyhon\n",
    "       language'''\n",
    "print(z)"
   ]
  },
  {
   "cell_type": "code",
   "execution_count": 7,
   "id": "e8986f72-6b1a-44b9-8140-0b953bfec7b7",
   "metadata": {},
   "outputs": [
    {
     "name": "stdout",
     "output_type": "stream",
     "text": [
      "python is \"programming\" language\n"
     ]
    }
   ],
   "source": [
    "x = 'python is \"programming\" language'\n",
    "print(x)"
   ]
  },
  {
   "cell_type": "markdown",
   "id": "0ccf38fc-d033-4cee-b9a6-19d7a6af9a91",
   "metadata": {},
   "source": [
    "3. list"
   ]
  },
  {
   "cell_type": "raw",
   "id": "d83076ee-f829-42b2-acac-8f27b2a29cc7",
   "metadata": {},
   "source": [
    "colllection of element.\n",
    "collection of same data type element :- (hemogenous)\n",
    "collection of different element :- (hitrogenous)\n",
    "\n",
    "represented in[] with comma () seperated element.\n",
    "\n",
    "\n"
   ]
  },
  {
   "cell_type": "code",
   "execution_count": 2,
   "id": "1d202a48-620f-48a0-bdcd-37b12968be56",
   "metadata": {},
   "outputs": [
    {
     "name": "stdout",
     "output_type": "stream",
     "text": [
      "<class 'list'>\n"
     ]
    }
   ],
   "source": [
    "l = [10, 20,\"python\",['java','PHP']]\n",
    "print(type(l))"
   ]
  },
  {
   "cell_type": "code",
   "execution_count": 3,
   "id": "4654c327-dc19-44be-86dc-78168dcdee36",
   "metadata": {},
   "outputs": [
    {
     "name": "stdout",
     "output_type": "stream",
     "text": [
      "<class 'list'>\n"
     ]
    }
   ],
   "source": [
    "l = [10, 20,30,40]\n",
    "print(type(l))"
   ]
  },
  {
   "cell_type": "code",
   "execution_count": 4,
   "id": "b91b4d22-59e1-4124-b984-fb1989d75748",
   "metadata": {},
   "outputs": [
    {
     "name": "stdout",
     "output_type": "stream",
     "text": [
      "<class 'list'>\n"
     ]
    }
   ],
   "source": [
    "l = [\"java\",\"python\"]\n",
    "print(type(l))"
   ]
  },
  {
   "cell_type": "code",
   "execution_count": 7,
   "id": "c426d695-3ce5-43f4-8756-4d44847a7c93",
   "metadata": {},
   "outputs": [
    {
     "name": "stdout",
     "output_type": "stream",
     "text": [
      "<class 'tuple'>\n"
     ]
    }
   ],
   "source": [
    "t = (10, 20,\"python\",10.5,['java','PHP'])\n",
    "print(type(t))"
   ]
  },
  {
   "cell_type": "code",
   "execution_count": 8,
   "id": "82f68185-9210-426e-9093-5b2110b1cb07",
   "metadata": {},
   "outputs": [
    {
     "name": "stdout",
     "output_type": "stream",
     "text": [
      "<class 'tuple'>\n"
     ]
    }
   ],
   "source": [
    "t2 = (\"jva\",\"python\",'php')\n",
    "print(type(t2))"
   ]
  },
  {
   "cell_type": "raw",
   "id": "1cf8807d-1cdb-4d19-8e8d-03c65bad368b",
   "metadata": {},
   "source": [
    "4.dictionay(dict)\n",
    "Collection of element('key':'Value') pair.\n"
   ]
  },
  {
   "cell_type": "code",
   "execution_count": 9,
   "id": "db9bcdb2-0a87-4a38-a367-731e5fbd4d97",
   "metadata": {},
   "outputs": [
    {
     "name": "stdout",
     "output_type": "stream",
     "text": [
      "<class 'dict'>\n"
     ]
    }
   ],
   "source": [
    "d = {'name':'ayush', 'age':37,'surname':'rusiya'}\n",
    "print(type(d))"
   ]
  },
  {
   "cell_type": "code",
   "execution_count": null,
   "id": "8bedbcc2-c392-4aa2-9f62-4ad4b57b3e40",
   "metadata": {},
   "outputs": [],
   "source": []
  }
 ],
 "metadata": {
  "kernelspec": {
   "display_name": "Python 3",
   "language": "python",
   "name": "python3"
  },
  "language_info": {
   "codemirror_mode": {
    "name": "ipython",
    "version": 3
   },
   "file_extension": ".py",
   "mimetype": "text/x-python",
   "name": "python",
   "nbconvert_exporter": "python",
   "pygments_lexer": "ipython3",
   "version": "3.12.10"
  }
 },
 "nbformat": 4,
 "nbformat_minor": 5
}
